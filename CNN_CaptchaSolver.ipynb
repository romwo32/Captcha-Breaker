{
 "cells": [
  {
   "cell_type": "code",
   "execution_count": null,
   "metadata": {
    "colab": {
     "base_uri": "https://localhost:8080/",
     "height": 1000
    },
    "colab_type": "code",
    "id": "6Tzheb9xoLiD",
    "outputId": "2a196451-10bd-491a-fa67-2d3872867c3c"
   },
   "outputs": [],
   "source": [
    "%pip install tensorflow\n",
    "%pip install opencv-python\n",
    "!apt update && apt install -y libsm6 libxext6\n",
    "!pip install opencv-python-headless\n",
    "!pip install opencv-contrib-python-headless\n",
    "%pip install keras\n",
    "\n",
    "\n",
    "import argparse\n",
    "import json\n",
    "import string\n",
    "import os\n",
    "import shutil\n",
    "\n",
    "import itertools\n",
    "\n",
    "import os\n",
    "import cv2\n",
    "import numpy as np\n",
    "from random import random, randint, choices\n",
    "\n",
    "import keras\n",
    "import tensorflow as tf\n",
    "from keras.models import Sequential, Model\n",
    "from keras.layers import Dense, Dropout, Activation, Flatten\n",
    "from keras.layers import Conv2D, MaxPooling2D, Input\n",
    "from tensorflow.keras.layers import Input, Conv2D, MaxPooling2D, Dropout, Dense, BatchNormalization, GlobalAveragePooling2D, LeakyReLU\n",
    "from tensorflow.keras.models import Model\n",
    "from tensorflow.keras.callbacks import EarlyStopping, ReduceLROnPlateau\n",
    "from tensorflow.keras.initializers import HeNormal\n",
    "import matplotlib.pyplot as plt"
   ]
  },
  {
   "cell_type": "code",
   "execution_count": null,
   "metadata": {
    "colab": {},
    "colab_type": "code",
    "id": "yuX06GVdok0-"
   },
   "outputs": [],
   "source": [
    "# Zeichen, die für das Captcha verwendet werden\n",
    "CHARACTERS = list('1234567890abcdefghijklmnopqrstuvwxyzABCDEFGHIJKLMNOPQRSTUVWXYZ')\n",
    "NUM_CHARACTERS = len(CHARACTERS)"
   ]
  },
  {
   "cell_type": "code",
   "execution_count": null,
   "metadata": {
    "colab": {},
    "colab_type": "code",
    "id": "MQYOsJyioy5g"
   },
   "outputs": [],
   "source": [
    "BATCH_SIZE = 64\n",
    "NUM_OF_LETTERS = 5\n",
    "EPOCHS = 100\n",
    "IMG_ROW, IMG_COLS = 50, 135\n",
    "\n",
    "# Non-configs\n",
    "PATH = os.getcwd()\n",
    "DATA_PATH = os.path.join(PATH, 'train')\n"
   ]
  },
  {
   "cell_type": "code",
   "execution_count": null,
   "metadata": {
    "colab": {},
    "colab_type": "code",
    "id": "ItSQ3uTvo5YW"
   },
   "outputs": [],
   "source": [
    "def load_data(path, test_split=0.1):\n",
    "    print ('loading dataset...')\n",
    "    y_train = []\n",
    "    y_test = []\n",
    "    x_train = []\n",
    "    x_test = []\n",
    "\n",
    "    counter = 0\n",
    "    for r, d, f in os.walk(path):\n",
    "        for fl in f:\n",
    "            if '.jpg' in fl:\n",
    "                flr = fl.split('_')[0]\n",
    "                counter += 1\n",
    "                label = np.zeros((NUM_OF_LETTERS, NUM_CHARACTERS))\n",
    "                for i in range(NUM_OF_LETTERS):\n",
    "                    label[i, CHARACTERS.index(flr[i].lower())] = 1\n",
    "\n",
    "                img = cv2.imread(os.path.join(r, fl))\n",
    "                img = cv2.cvtColor(img, cv2.COLOR_BGR2GRAY)\n",
    "                img = cv2.resize(img, (int(135/2), int(50/2)), interpolation=cv2.INTER_AREA)\n",
    "                img = np.reshape(img, (img.shape[0], img.shape[1], 1))\n",
    "\n",
    "                if random() < test_split:\n",
    "                    y_test.append(label)\n",
    "                    x_test.append(img)\n",
    "                else:\n",
    "                    y_train.append(label)\n",
    "                    x_train.append(img)\n",
    "\n",
    "    print('dataset size:', counter, '(train=%d, test=%d)' % (len(y_train), len(y_test)))\n",
    "    return np.array(x_train), np.array(y_train), np.array(x_test), np.array(y_test)"
   ]
  },
  {
   "cell_type": "code",
   "execution_count": null,
   "metadata": {
    "colab": {
     "base_uri": "https://localhost:8080/",
     "height": 52
    },
    "colab_type": "code",
    "id": "AenCMkmco-jv",
    "outputId": "77cd1965-6095-4341-a0c2-3259788fa71a"
   },
   "outputs": [],
   "source": [
    "x_train, y_train, x_test, y_test = load_data(DATA_PATH)\n",
    "\n",
    "x_train = x_train.astype('float32')\n",
    "x_test = x_test.astype('float32')\n",
    "x_train /= 255\n",
    "x_test /= 255"
   ]
  },
  {
   "cell_type": "code",
   "execution_count": null,
   "metadata": {
    "colab": {
     "base_uri": "https://localhost:8080/",
     "height": 88
    },
    "colab_type": "code",
    "id": "zqV-rssUuhIy",
    "outputId": "cebc9f7e-f5a8-42a8-882d-80e1b7b0b131"
   },
   "outputs": [],
   "source": [
    "print(x_train.shape)\n",
    "print(y_train.shape)\n",
    "print(x_test.shape)\n",
    "print(y_test.shape)"
   ]
  },
  {
   "cell_type": "code",
   "execution_count": null,
   "metadata": {
    "colab": {},
    "colab_type": "code",
    "id": "eASawvTyvMaL"
   },
   "outputs": [],
   "source": [
    "s_train = []\n",
    "s_test = []\n",
    "for i in range(NUM_OF_LETTERS):\n",
    "    s_train.append(y_train[:, i, :])\n",
    "    s_test.append(y_test[:, i, :])  "
   ]
  },
  {
   "cell_type": "code",
   "execution_count": null,
   "metadata": {
    "colab": {},
    "colab_type": "code",
    "id": "DCom2NFKvVF0"
   },
   "outputs": [],
   "source": [
    "save_dir = os.path.join(PATH, 'saved_models')\n",
    "model_name = 'keras_cifar10_trained_model.h5'"
   ]
  },
  {
   "cell_type": "code",
   "execution_count": null,
   "metadata": {
    "colab": {},
    "colab_type": "code",
    "id": "XS0vWhEuvXgo"
   },
   "outputs": [],
   "source": [
    "input_layer = Input((25, 67, 1))\n",
    "x = Conv2D(filters=32, kernel_size=(3, 3), padding=\"same\", activation=None, kernel_initializer=HeNormal())(input_layer)\n",
    "x = BatchNormalization()(x)\n",
    "x = LeakyReLU(alpha=0.1)(x)\n",
    "x = MaxPooling2D(pool_size=(2, 2))(x)\n",
    "\n",
    "x = Conv2D(filters=48, kernel_size=(3, 3), padding=\"same\", activation=None, kernel_initializer=HeNormal())(x)\n",
    "x = BatchNormalization()(x)\n",
    "x = LeakyReLU(alpha=0.1)(x)\n",
    "x = MaxPooling2D(pool_size=(2, 2))(x)\n",
    "\n",
    "x = Conv2D(filters=64, kernel_size=(3, 3), padding=\"same\", activation=None, kernel_initializer=HeNormal())(x)\n",
    "x = BatchNormalization()(x)\n",
    "x = LeakyReLU(alpha=0.1)(x)\n",
    "x = MaxPooling2D(pool_size=(2, 2))(x)\n",
    "\n",
    "x = Conv2D(filters=128, kernel_size=(3, 3), padding=\"same\", activation=None, kernel_initializer=HeNormal())(x)\n",
    "x = BatchNormalization()(x)\n",
    "x = LeakyReLU(alpha=0.1)(x)\n",
    "x = MaxPooling2D(pool_size=(2, 2))(x)\n",
    "\n",
    "x = Dropout(0.3)(x)\n",
    "x = GlobalAveragePooling2D()(x)\n",
    "\n",
    "x = Dense(512, activation=None, kernel_initializer=HeNormal())(x)\n",
    "x = BatchNormalization()(x)\n",
    "x = LeakyReLU(alpha=0.1)(x)\n",
    "x = Dropout(0.4)(x)\n",
    "\n",
    "\n",
    "out = [Dense(NUM_CHARACTERS, name='digit%d' % i, activation='softmax')(x) for i in range(NUM_OF_LETTERS)]\n",
    "\n",
    "model = Model(inputs=input_layer, outputs=out)\n",
    "model.compile(optimizer='adam', loss=['binary_crossentropy']*NUM_OF_LETTERS, metrics=['accuracy']*NUM_OF_LETTERS)\n",
    "\n",
    "model.summary()\n",
    "\n",
    "#early_stopping = EarlyStopping(monitor='val_loss', patience=5, restore_best_weights=True, verbose=1)\n",
    "#reduce_lr = ReduceLROnPlateau(monitor='val_loss', factor=0.5, patience=3, min_lr=1e-6, verbose=1)"
   ]
  },
  {
   "cell_type": "code",
   "execution_count": null,
   "metadata": {
    "colab": {},
    "colab_type": "code",
    "id": "xNW40AXivcK7"
   },
   "outputs": [],
   "source": [
    "hist_train_loss_digit = {i:[] for i in range(5)}\n",
    "hist_test_loss_digit = {i:[] for i in range(5)}\n",
    "\n",
    "hist_train_acc_digit = {i:[] for i in range(5)}\n",
    "hist_test_acc_digit = {i:[] for i in range(5)}\n",
    "\n",
    "hist_train_loss = []\n",
    "hist_test_loss = []\n",
    "\n",
    "hist_train_acc = []\n",
    "hist_test_acc = []"
   ]
  },
  {
   "cell_type": "code",
   "execution_count": null,
   "metadata": {
    "colab": {},
    "colab_type": "code",
    "id": "VFeIxaatvhap"
   },
   "outputs": [],
   "source": [
    "digit_acc = [[] for _ in range(NUM_OF_LETTERS)]\n",
    "val_digit_acc = [[] for _ in range(NUM_OF_LETTERS)]\n",
    "loss = []\n",
    "val_loss = []"
   ]
  },
  {
   "cell_type": "code",
   "execution_count": null,
   "metadata": {
    "colab": {
     "base_uri": "https://localhost:8080/",
     "height": 1000
    },
    "colab_type": "code",
    "id": "IQTy-mCRvjIz",
    "outputId": "ed453b3f-f6a8-40f5-932a-50064fbac4cb",
    "scrolled": true
   },
   "outputs": [],
   "source": [
    "history = model.fit(x_train, s_train,\n",
    "                    batch_size=BATCH_SIZE,\n",
    "                    epochs=EPOCHS,\n",
    "                    verbose=1,\n",
    "                    validation_data=(x_test, s_test)\n",
    "                   )"
   ]
  },
  {
   "cell_type": "code",
   "execution_count": null,
   "metadata": {
    "colab": {},
    "colab_type": "code",
    "id": "PK5FjnNp63eL"
   },
   "outputs": [],
   "source": [
    "digit_acc = [[] for _ in range(NUM_OF_LETTERS)]\n",
    "val_digit_acc = [[] for _ in range(NUM_OF_LETTERS)]\n",
    "loss = []\n",
    "val_loss = []\n",
    "\n",
    "\n",
    "def plot_diagram(digit_acc_now, val_digit_acc_now, loss_now, val_loss_now):\n",
    "    global digit_acc, val_digit_acc, loss, val_loss\n",
    "    \n",
    "    \n",
    "    for i in range(NUM_OF_LETTERS):\n",
    "        digit_acc[i].extend(digit_acc_now[i])\n",
    "        val_digit_acc[i].extend(val_digit_acc_now[i])\n",
    "    loss.extend(loss_now)\n",
    "    val_loss.extend(val_loss_now)\n",
    "    \n",
    "    for i in range(NUM_OF_LETTERS):\n",
    "        s = {0:'First', 1:'Second', 2:'Third', 3:'Fourth', 4:'Fifth'}[i]\n",
    "        # plt.plot(val_digit_acc[i], label='%s Digit Train' % s)\n",
    "        plt.plot(digit_acc[i], label='%s Digit Test' % s)\n",
    "\n",
    "    plt.title('Model accuracy')\n",
    "    plt.ylabel('Accuracy')\n",
    "    plt.xlabel('Epoch')\n",
    "    plt.legend()\n",
    "    plt.show()\n",
    "\n",
    "    for i in range(NUM_OF_LETTERS):\n",
    "        s = {0:'First', 1:'Second', 2:'Third', 3:'Fourth', 4:'Fifth'}[i]\n",
    "        plt.plot(val_digit_acc[i], label='%s Digit Train' % s)\n",
    "        # plt.plot(digit_acc[i], label='%s Digit Test' % s)\n",
    "\n",
    "    plt.title('Model accuracy')\n",
    "    plt.ylabel('Accuracy')\n",
    "    plt.xlabel('Epoch')\n",
    "    plt.legend()\n",
    "    plt.show()\n",
    "\n",
    "\n",
    "\n",
    "    # Plot training & validation loss values\n",
    "    \n",
    "    plt.plot(val_loss, label='Train')\n",
    "    plt.plot(loss, label='Test')\n",
    "    plt.title('Model loss')\n",
    "    plt.ylabel('Loss')\n",
    "    plt.xlabel('Epoch')\n",
    "    plt.legend()\n",
    "    plt.show()"
   ]
  },
  {
   "cell_type": "code",
   "execution_count": null,
   "metadata": {
    "colab": {
     "base_uri": "https://localhost:8080/",
     "height": 851
    },
    "colab_type": "code",
    "id": "gmz3c1Ve8xG1",
    "outputId": "746b74b1-02a1-43eb-d7f5-a094234f55e3"
   },
   "outputs": [],
   "source": [
    "plot_diagram(\n",
    "    \n",
    "    [history.history['digit%d_accuracy' % i] for i in range(NUM_OF_LETTERS)],\n",
    "    [history.history['val_digit%d_accuracy' % i] for i in range(NUM_OF_LETTERS)],\n",
    "    history.history['loss'],\n",
    "    history.history['val_loss'],\n",
    ")"
   ]
  },
  {
   "cell_type": "code",
   "execution_count": null,
   "metadata": {
    "colab": {
     "base_uri": "https://localhost:8080/",
     "height": 35
    },
    "colab_type": "code",
    "id": "MQIbUVBY6-SG",
    "outputId": "26fe21c3-aeb8-42a5-b5bf-4058be42d516"
   },
   "outputs": [],
   "source": [
    "# Save model and weights\n",
    "if not os.path.isdir(save_dir):\n",
    "    os.makedirs(save_dir)\n",
    "model_path = os.path.join(save_dir, model_name)\n",
    "model.save('my_model.keras')\n",
    "print('Saved trained model at Ordner ')"
   ]
  },
  {
   "cell_type": "code",
   "execution_count": null,
   "metadata": {
    "colab": {
     "base_uri": "https://localhost:8080/",
     "height": 70
    },
    "colab_type": "code",
    "id": "x8cshRKD7Bak",
    "outputId": "e09d242b-a39f-4d4f-f289-5d5c8e0fe62e"
   },
   "outputs": [],
   "source": [
    "# Gesamt Captcha.\n",
    "scores = model.evaluate(x_train, s_train, verbose=1)\n",
    "print('Train loss:     %f' % np.mean(scores[0:5]))\n",
    "acc = 1.\n",
    "for i in range(5):\n",
    "    acc *= scores[6+i]\n",
    "print('Train accuracy: %.2f' % (acc * 100.))"
   ]
  },
  {
   "cell_type": "code",
   "execution_count": null,
   "metadata": {
    "colab": {
     "base_uri": "https://localhost:8080/",
     "height": 70
    },
    "colab_type": "code",
    "id": "yfQ_5Ago7EWh",
    "outputId": "19d26d76-4ef6-4d67-f0da-b56442076319"
   },
   "outputs": [],
   "source": [
    "# Gesamt Captcha\n",
    "scores = model.evaluate(x_test, s_test, verbose=1)\n",
    "print('Test loss:     %f' % np.mean(scores[0:5]))\n",
    "acc = 1.\n",
    "for i in range(5):\n",
    "    acc *= scores[6+i]\n",
    "print('Test accuracy: %.2f' % (acc * 100.))"
   ]
  },
  {
   "cell_type": "code",
   "execution_count": null,
   "metadata": {},
   "outputs": [],
   "source": [
    "# Single Character Train\n",
    "scores = model.evaluate(x_train, s_train, verbose=1)\n",
    "print('Train loss:     %f' % np.mean(scores[0:5]))\n",
    "acc = 1.\n",
    "acc = np.mean(scores[6:11])\n",
    "print('Train accuracy: %.2f' % (acc * 100.))"
   ]
  },
  {
   "cell_type": "code",
   "execution_count": null,
   "metadata": {},
   "outputs": [],
   "source": [
    "# Single Character Test\n",
    "scores = model.evaluate(x_test, s_test, verbose=1)\n",
    "print('Test loss:     %f' % np.mean(scores[0:5]))\n",
    "acc = 1.\n",
    "acc = np.mean(scores[6:11])\n",
    "print('Test accuracy: %.2f' % (acc * 100.))"
   ]
  },
  {
   "cell_type": "code",
   "execution_count": null,
   "metadata": {},
   "outputs": [],
   "source": []
  }
 ],
 "metadata": {
  "accelerator": "GPU",
  "colab": {
   "collapsed_sections": [],
   "name": "Captcha_Solver_Alphanumerical.ipynb",
   "provenance": []
  },
  "kernelspec": {
   "display_name": "Python 3 (ipykernel)",
   "language": "python",
   "name": "python3"
  },
  "language_info": {
   "codemirror_mode": {
    "name": "ipython",
    "version": 3
   },
   "file_extension": ".py",
   "mimetype": "text/x-python",
   "name": "python",
   "nbconvert_exporter": "python",
   "pygments_lexer": "ipython3",
   "version": "3.12.4"
  }
 },
 "nbformat": 4,
 "nbformat_minor": 4
}
